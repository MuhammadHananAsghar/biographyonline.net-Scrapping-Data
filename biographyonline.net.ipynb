{
 "cells": [
  {
   "cell_type": "code",
   "execution_count": 3,
   "metadata": {},
   "outputs": [],
   "source": [
    "from gazpacho import get, Soup"
   ]
  },
  {
   "cell_type": "code",
   "execution_count": 4,
   "metadata": {},
   "outputs": [],
   "source": [
    "url = \"https://www.biographyonline.net/people/famous-100.html\"\n",
    "html = get(url)\n",
    "soup = Soup(html)"
   ]
  },
  {
   "cell_type": "code",
   "execution_count": 13,
   "metadata": {},
   "outputs": [
    {
     "name": "stderr",
     "output_type": "stream",
     "text": [
      "<ipython-input-13-f7dad8e01523>:1: FutureWarning: Marked for removal; use partial=\n",
      "  people = soup.find(\"li\", strict=True)\n"
     ]
    }
   ],
   "source": [
    "people = soup.find(\"li\", strict=True)"
   ]
  },
  {
   "cell_type": "code",
   "execution_count": 68,
   "metadata": {},
   "outputs": [],
   "source": [
    "people = people[6:133]"
   ]
  },
  {
   "cell_type": "code",
   "execution_count": 76,
   "metadata": {},
   "outputs": [
    {
     "data": {
      "text/plain": [
       "<li><a href=\"../actors/marilyn-monroe.html\">Marilyn Monroe</a> (1926 – 1962) American actress, singer, model</li>"
      ]
     },
     "execution_count": 76,
     "metadata": {},
     "output_type": "execute_result"
    }
   ],
   "source": [
    "people[0]"
   ]
  },
  {
   "cell_type": "code",
   "execution_count": 77,
   "metadata": {},
   "outputs": [],
   "source": [
    "#Using Requests"
   ]
  },
  {
   "cell_type": "code",
   "execution_count": 78,
   "metadata": {},
   "outputs": [],
   "source": [
    "import requests\n",
    "from bs4 import BeautifulSoup"
   ]
  },
  {
   "cell_type": "code",
   "execution_count": 80,
   "metadata": {},
   "outputs": [],
   "source": [
    "soup = BeautifulSoup(requests.get(url).content,\"lxml\")"
   ]
  },
  {
   "cell_type": "code",
   "execution_count": 109,
   "metadata": {},
   "outputs": [
    {
     "name": "stdout",
     "output_type": "stream",
     "text": [
      "Marilyn Monroe (1926 – 1962) American actress, singer, model\n",
      "Abraham Lincoln (1809 – 1865) US President during American civil war\n",
      "Nelson Mandela  (1918 – 2013)  South African President anti-apartheid campaigner\n",
      "John F. Kennedy (1917 – 1963) US President 1961 – 1963\n",
      "Martin Luther King (1929 – 1968)  American civil rights campaigner\n",
      "Queen Elizabeth II (1926 – ) British monarch since 1954\n",
      "Winston Churchill  (1874 – 1965) British Prime Minister during WWII\n",
      "Donald Trump (1946 – ) Businessman, US President.\n",
      "Bill Gates  (1955 – ) American businessman, founder of Microsoft\n",
      "Muhammad Ali (1942 – 2016) American Boxer and civil rights campaigner\n",
      "Mahatma Gandhi (1869 – 1948) Leader of Indian independence movement\n",
      "Mother Teresa (1910 – 1997) Macedonian Catholic missionary nun\n",
      "Christopher Columbus (1451 – 1506) Italian explorer\n",
      "Charles Darwin (1809 – 1882) British scientist, theory of evolution\n",
      "Elvis Presley (1935 – 1977) American musician\n",
      "Albert Einstein (1879 – 1955) German scientist, theory of relativity\n",
      "Paul McCartney (1942 – ) British musician, member of Beatles\n",
      "Queen Victoria ( 1819 – 1901) British monarch 1837 – 1901\n",
      "Pope Francis (1936 – ) First pope from the Americas\n",
      "Jawaharlal Nehru  (1889 – 1964) Indian Prime Minister 1947 – 1964\n",
      "Leonardo da Vinci (1452 – 1519) Italian, painter, scientist, polymath\n",
      "Vincent Van Gogh (1853 – 1890) Dutch artist\n",
      "Franklin D. Roosevelt (1882 – 1945) US President 1932 – 1945\n",
      "Pope John Paul II (1920 – 2005) Polish Pope\n",
      "Thomas Edison ( 1847 – 1931) American inventor\n",
      "Rosa Parks  (1913 – 2005)  American civil rights activist\n",
      "Lyndon Johnson (1908 – 1973) US President 1963 – 1969\n",
      "Ludwig Beethoven (1770 – 1827) German composer\n",
      "Oprah Winfrey (1954 – ) American TV presenter, actress, entrepreneur\n",
      "Indira Gandhi (1917 – 1984) Prime Minister of India 1966 – 1977\n",
      "Eva Peron (1919 – 1952) First Lady of Argentina 1946 – 1952\n",
      "Benazir Bhutto (1953 – 2007) Prime Minister of Pakistan 1993 – 1996\n",
      "George Orwell  (1903 – 1950) British author\n",
      "Desmond Tutu (1931 – ) South African Bishop and opponent of apartheid\n",
      "Dalai Lama (1938 – ) Spiritual and political leader of Tibetans\n",
      "Walt Disney (1901 – 1966) American film producer\n",
      "Neil Armstrong (1930 – 2012) US astronaut\n",
      "Peter Sellers (1925 – 1980) British actor and comedian\n",
      "Barack Obama (1961 – ) US President 2008 – 2016\n",
      "Malcolm X (1925 – 1965) American Black nationalist leader\n",
      "J.K.Rowling (1965 – ) British author\n",
      "Richard Branson (1950 – ) British entrepreneur\n",
      "Pele (1940 – ) Brazilian footballer, considered greatest of 20th century.\n",
      "Angelina Jolie (1975 – ) Actress, director, humanitarian\n",
      "Jesse Owens (1913 – 1980) US track athlete, 1936 Olympics\n",
      "John Lennon (1940 – 1980) British musician, member of the Beatles\n",
      "Henry Ford (1863 – 1947) US Industrialist\n",
      "Haile Selassie (1892 – 1975) Emperor of Ethiopia 1930 – 1974\n",
      "Joseph Stalin (1879 – 1953) Leader of Soviet Union 1924 – 1953\n",
      "Lord Baden Powell (1857 – 1941) British Founder of scout movement\n",
      "Michael Jordon (1963 – ) US Basketball star\n",
      "George Bush Jnr (1946 – ) US President 2000-2008\n",
      "Vladimir Lenin (1870 – 1924) Leader of Russian Revolution 1917\n",
      "Ingrid Bergman (1915 – 1982) Swedish actress\n",
      "Fidel Castro (1926 – ) President of Cuba 1976 – 2008\n",
      "Leo Tolstoy (1828 – 1910) Russian author and philosopher\n",
      "Greta Thunberg (2003 – ) Environmentalist activist)\n",
      "Pablo Picasso (1881 – 1973) Spanish modern artist\n",
      "Oscar Wilde (1854 – 1900) Irish author, poet, playwright\n",
      "Coco Chanel (1883 – 1971) French fashion designer\n",
      "Charles de Gaulle (1890 – 1970) French resistance leader and President 1959 – 1969\n",
      "Amelia Earhart (1897 – 1937) Aviator\n",
      "John M Keynes (1883 – 1946) British economist\n",
      "Louis Pasteur (1822 – 1895) French chemist and microbiologist\n",
      "Mikhail Gorbachev (1931 – ) Leader of Soviet Union 1985 – 1991\n",
      "Plato (423 BC – 348 BC) Greek philosopher\n",
      "Adolf Hitler  (1889 – 1945) leader of Nazi Germany 1933 – 1945\n",
      "Sting (1951 – ) British musician\n",
      "Mary Magdalene (4 BCE – 40CE) devotee of Jesus Christ\n",
      "Alfred Hitchcock (1899 – 1980) English / American film producer, director\n",
      "Michael Jackson (1958 – 2009) American musician\n",
      "Madonna (1958 – ) American musician, actress, author\n",
      "Mata Hari (1876 – 1917) Dutch exotic dancer, executed as spy\n",
      "Cleopatra (69 – 30 BCE) Queen of Egypt\n",
      "Grace Kelly (1929 – 1982) American actress, Princess of Monaco\\\n",
      "Malala Yousafzai (1997 – ) Pakistani human rights activist\n",
      "Steve Jobs (1955 – 2012) co-founder of Apple computers\n",
      "Ronald Reagan (1911 – 2004) US President 1981-1989\n",
      "Lionel Messi (1987 – ) Argentinian footballer\n",
      "Babe Ruth (1895 – 1948) American baseball player\n",
      "Bob Geldof (1951 – ) Irish musician, charity worker\n",
      "Roger Federer (1981 – ) Swiss Tennis player\n",
      "Sigmund Freud (1856 – 1939) Austrian psychoanalyst\n",
      "Woodrow Wilson (1856 – 1924) US president 1913 – 1921\n",
      "Mao Zedong (1893 – 1976) Leader of Chinese Communist revolution\n",
      "Katherine Hepburn (1907 – 2003) American actress\n",
      "Audrey Hepburn (1929 – 1993) British actress and humanitarian\n",
      "David Beckham (1975 – )  English footballer\n",
      "Tiger Woods (1975 – ) American golfer\n",
      "Usain Bolt (1986 – ) Jamaican athlete and Olympian\n",
      "Carl Lewis (1961 – ) US athlete and Olympian\n",
      "Prince Charles (1948 – )  Heir to British throne\n",
      "Jacqueline Kennedy Onassis (1929 – 1994) American wife of JF Kennedy\n",
      "C.S. Lewis  (1898 – 1963) British author\n",
      "Billie Holiday (1915 – 1959) American jazz singer\n",
      "J.R.R. Tolkien (1892 – 1973) British author\n",
      "Billie Jean King (1943 – ) American tennis player and human rights activist\n",
      "Margaret Thatcher (1925 – 2013) British Prime Minister 1979 – 1990\n",
      "Anne Frank (1929 – 1945) Dutch Jewish author who died in Holocaust\n",
      "Simon Bolivar (1783 – 1830) Venezuelan independence activist in South America.\n",
      "Marie Antoinette (1755 – 1793) French Queen, executed during the French revolution\n",
      "Cristiano Ronaldo (1985 – ) Portuguese footballer.\n",
      "Emmeline Pankhurst  (1858 – 1928) English suffragette.\n",
      "Emile Zatopek (1922 – 2000) Czech athlete\n",
      "Lech Walesa (1943 – ) Polish leader of Solidarity movement\n",
      "Julie Andrews (1935 – ) British singer, actress\n",
      "Florence Nightingale (1820 – 1910) British nurse\n",
      "Marie Curie (1867 – 1934) Polish / French scientist\n",
      "Stephen Hawking (1942 – ) British scientist\n",
      "Tim Berners Lee (1955 – ) English creator of World Wide Web\n",
      "Aung San Suu Kyi  (1945 – ) Burmese opposition leader\n",
      "Lance Armstrong (1971 – ) American cyclist\n",
      "Shakira (1977 – ) Colombian singer\n",
      "Jon Stewart (1962 – ) American comedian\n",
      "Wright Brothers  Orville (1871 – 1948) and Wilbur (1867 – 1912) American inventors, aviation pioneers\n",
      "Ernest Hemingway (1899 – 1961) American author\n",
      "Roman Abramovich (1966 – ) Russian oligarch\n",
      "Tom Cruise (1962 – ) American actor\n",
      "Rupert Murdoch (1931 – ) Media owner of News Corporation\n",
      "Al Gore (1948 – ) US presidential candidate and environmental campaigner\n",
      "Sacha Baron Cohen (1971 – ) English comedian\n",
      "George Clooney (1961 – ) American actor and political activist\n",
      "Paul Krugman (1953 – ) American Nobel Prize winning economist\n",
      "Jimmy Wales (1966 – ) American creator of Wikipedia\n",
      "Brad Pitt (1963 – ) Actor\n",
      "Kylie Minogue (1968 – ) Australian singer and actress\n",
      "Stephen King (1947 – ) American author\n"
     ]
    }
   ],
   "source": [
    "for it in soup.find_all(\"li\")[20:147]:\n",
    "    print(it.text)"
   ]
  },
  {
   "cell_type": "code",
   "execution_count": null,
   "metadata": {},
   "outputs": [],
   "source": []
  }
 ],
 "metadata": {
  "kernelspec": {
   "display_name": "Python 3",
   "language": "python",
   "name": "python3"
  },
  "language_info": {
   "codemirror_mode": {
    "name": "ipython",
    "version": 3
   },
   "file_extension": ".py",
   "mimetype": "text/x-python",
   "name": "python",
   "nbconvert_exporter": "python",
   "pygments_lexer": "ipython3",
   "version": "3.8.2"
  }
 },
 "nbformat": 4,
 "nbformat_minor": 4
}
